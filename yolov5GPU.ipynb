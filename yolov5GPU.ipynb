{
 "cells": [
  {
   "cell_type": "code",
   "execution_count": 5,
   "metadata": {},
   "outputs": [],
   "source": [
    "yaml_content =\"\"\"\n",
    "   path: '/Users/azulmakk/Universidad/Proyecto Final/Train_Test'\n",
    "   train: '/Users/azulmakk/Universidad/Proyecto Final/Train_Test/Train/images' # Subruta a tus imágenes de entrenamiento\n",
    "   val: '/Users/azulmakk/Universidad/Proyecto Final/Train_Test/Test/images' # Subruta a tus imágenes de validación\n",
    "   nc: 1  # Número de clases\n",
    "   names: ['plant']  # Nombres de las clases\n",
    "   \"\"\"\n",
    "\n",
    "file_path= \"/Users/azulmakk/Universidad/Proyecto Final/dataAzu.yaml\"\n",
    "\n",
    "with open(file_path, 'w') as file:\n",
    "    file.write(yaml_content)"
   ]
  },
  {
   "cell_type": "code",
   "execution_count": 19,
   "metadata": {},
   "outputs": [
    {
     "name": "stdout",
     "output_type": "stream",
     "text": [
      "Traceback (most recent call last):\n",
      "  File \"/Users/azulmakk/Universidad/Proyecto Final/yolov5/train.py\", line 33, in <module>\n",
      "    import numpy as np\n",
      "ModuleNotFoundError: No module named 'numpy'\n"
     ]
    }
   ],
   "source": [
    "!python3 \"/Users/azulmakk/Universidad/Proyecto Final/yolov5/train.py\" --data \"/Users/azulmakk/Universidad/Proyecto Final/dataAzu.yaml\" --weights yolov5s.pt --img 640  --epochs 50 --batch-size 10 --name \"/Users/azulmakk/Universidad/Proyecto Final/TRAININGcompleto\""
   ]
  }
 ],
 "metadata": {
  "kernelspec": {
   "display_name": "Python 3",
   "language": "python",
   "name": "python3"
  },
  "language_info": {
   "codemirror_mode": {
    "name": "ipython",
    "version": 3
   },
   "file_extension": ".py",
   "mimetype": "text/x-python",
   "name": "python",
   "nbconvert_exporter": "python",
   "pygments_lexer": "ipython3",
   "version": "3.11.5"
  }
 },
 "nbformat": 4,
 "nbformat_minor": 2
}
